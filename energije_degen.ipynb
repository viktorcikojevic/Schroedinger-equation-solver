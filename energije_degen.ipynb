{
  "nbformat": 4,
  "nbformat_minor": 0,
  "metadata": {
    "colab": {
      "name": "energije_degen.ipynb",
      "provenance": [],
      "collapsed_sections": []
    },
    "kernelspec": {
      "display_name": "Python 3",
      "language": "python",
      "name": "python3"
    },
    "language_info": {
      "codemirror_mode": {
        "name": "ipython",
        "version": 3
      },
      "file_extension": ".py",
      "mimetype": "text/x-python",
      "name": "python",
      "nbconvert_exporter": "python",
      "pygments_lexer": "ipython3",
      "version": "3.8.5"
    }
  },
  "cells": [
    {
      "cell_type": "code",
      "metadata": {
        "id": "ybCA909OovN1"
      },
      "source": [
        "import numpy as np\n",
        "\n",
        "def external_potential(x,y,z):\n",
        "    return (x**2 + y**2 + z**2) /2\n",
        "\n",
        "def init_psi(x_in, y_in, z_in):\n",
        "    return np.random.uniform(0, 1, np.shape(x_in)) + 0.j\n",
        "\n",
        "def laplacian(psi):\n",
        "    psi_k = np.fft.fftn(psi)\n",
        "    lap = np.fft.ifftn(psi_k * sumk2)\n",
        "    return lap\n",
        "    \n",
        "def kinetic_energy(psi):\n",
        "    global d3r, sumk2\n",
        "    l = laplacian(psi) * np.conj(psi)\n",
        "    e_kin = (np.sum(l) * d3r).real / 2\n",
        "    return e_kin\n",
        "\n",
        "def T2_operator(psi):\n",
        "    global pot_ext, d3r\n",
        "    kinprop = np.exp(-dt * sumk2/2) \n",
        "    psi_t = np.exp(-0.5 * pot_ext * dt) * psi    \n",
        "    psi_k = np.fft.fftn(psi_t)\n",
        "    psi_t = np.fft.ifftn(kinprop * psi_k)\n",
        "    psi_t = np.exp(-0.5 * pot_ext * dt) * psi_t\n",
        "    return psi_t\n",
        "\n",
        "def pot_energy(psi):\n",
        "    global d3r, pot_ext\n",
        "    den_t = np.absolute(psi)**2\n",
        "    pot_en=d3r*np.sum(pot_ext*den_t)\n",
        "    return pot_en\n",
        "\n",
        "def overlap(psi_1, psi_2):\n",
        "    return d3r * np.sum(np.conj(psi_1) * psi_2  )\n",
        "\n",
        "def create_matrix(psi_all):\n",
        "    size = len(psi_all)\n",
        "    matrix = np.ones( (size, size), dtype=np.complex128 )\n",
        "    for i in range(size):\n",
        "        for j in range(size):\n",
        "            matrix[i,j] = overlap(psi_all[i], psi_all[j])\n",
        "    return matrix\n",
        "\n",
        "def propagate(psis): ##uzme svaki psi i propagira ga\n",
        "    psis_out = np.copy(psis)\n",
        "    for i, psi in enumerate(psis):\n",
        "        psis_out[i]=T2_operator(psi)\n",
        "    return psis_out\n",
        "\n",
        "def ortho(psis):\n",
        "    m=create_matrix(psis)\n",
        "    eigen_vals, eigen_vecs = np.linalg.eig(m)\n",
        "    psi_all_new = np.copy(psis)\n",
        "    n_size=len(psis)\n",
        "    for j in range(n_size):\n",
        "        tmp = 0\n",
        "        for i in range(n_size):\n",
        "            tmp += eigen_vecs[i][j] * psi_all[i] #* psi_all_rotated[i]\n",
        "        psi_all_new[j] = tmp/ np.sqrt(eigen_vals[j])\n",
        "    for i in range(n_size):\n",
        "        den_t = np.absolute(psi_all_new[i])**2\n",
        "        normtemp = np.sum(den_t) * d3r\n",
        "        psi_all_new[i] *= np.sqrt(1. / normtemp)\n",
        "    return psi_all_new\n",
        "\n",
        "arr=32\n",
        "nxyz = np.array([arr, arr, arr])\n",
        "L = np.array([20, 20, 20])\n",
        "tot_time = 10\n",
        "\n",
        "LHalf = L / 2\n",
        "x = np.linspace( -LHalf[0], LHalf[0],  nxyz[0],  endpoint=False )\n",
        "y = np.linspace( -LHalf[1], LHalf[1],  nxyz[1],  endpoint=False )\n",
        "z = np.linspace( -LHalf[2], LHalf[2],  nxyz[2],  endpoint=False )\n",
        "dx = L / nxyz\n",
        "d3r = np.prod(dx)\n",
        "x, y, z = np.meshgrid(x, y, z, indexing='ij')\n",
        "\n",
        "kx = np.fft.fftfreq(nxyz[0], dx[0] / ( 2 * np.pi))\n",
        "ky = np.fft.fftfreq(nxyz[1], dx[1] / ( 2 * np.pi))\n",
        "kz = np.fft.fftfreq(nxyz[2], dx[2] / ( 2 * np.pi))\n",
        "kx, ky, kz = np.meshgrid(ky, ky, kz, indexing='ij')\n",
        "\n",
        "sumk2 = kx**2 + ky**2 + kz**2\n",
        "pot_ext = external_potential(x, y, z)"
      ],
      "execution_count": 1,
      "outputs": []
    },
    {
      "cell_type": "code",
      "metadata": {
        "colab": {
          "base_uri": "https://localhost:8080/"
        },
        "id": "3zyEPeUPFHPj",
        "outputId": "2474e644-6481-49aa-bb50-809eb51ac842"
      },
      "source": [
        "dt=0.01\n",
        "n_iter=1000\n",
        "n_states = 10\n",
        "\n",
        "###\n",
        "\n",
        "psi_all = []\n",
        "for i in range(n_states):\n",
        "    psi_all.append(init_psi(x,y,z))\n",
        "pot_ear=[]\n",
        "kin_ear=[]\n",
        "for epoch in range(n_iter):\n",
        "    psi_all = propagate(psi_all)\n",
        "    psi_all = ortho(psi_all)\n",
        "\n",
        "e_round = np.zeros(n_states)\n",
        "ek_round = np.zeros(n_states)\n",
        "n_indx = np.arange(0, 10, 1)\n",
        "en_analytic = 0.5 * (n_indx + 3./2)\n",
        "\n",
        "for i in range(n_states):\n",
        "  pot_ear.append(pot_energy(psi_all[i]))\n",
        "  e_round[i] = round(pot_ear[i],2)\n",
        "  kin_ear.append(kinetic_energy(psi_all[i]))\n",
        "  ek_round[i] = round(kin_ear[i],2)\n",
        "\n",
        "print(\"E_numerical = \", pot_ear)\n",
        "print(\"E_analytic = \", en_analytic)\n",
        "indx_sorted = np.argsort(e_round)\n",
        "e_roundsort = e_round[indx_sorted]\n",
        "print(\"E_numerical; rounded, sorted = \", e_roundsort)\n",
        "print(\"\\n\")\n",
        "print(\"Ek_numerical =\", kin_ear)\n",
        "ek_roundsort = ek_round[indx_sorted]\n",
        "print(\"Ek_numerical; rounded, sorted = \", ek_roundsort)\n",
        "unique, counts = np.unique(ek_round, return_counts=True)\n",
        "dict(zip(unique, counts))"
      ],
      "execution_count": 2,
      "outputs": [
        {
          "output_type": "stream",
          "name": "stdout",
          "text": [
            "E_numerical =  [0.7499906228543447, 1.2499844099235171, 1.2499844119856172, 1.2499844113581136, 1.749977777191913, 1.7499779622792448, 1.7499774019165775, 1.7499777482379322, 1.7499776806634904, 1.7499780192347365]\nE_analytic =  [0.75 1.25 1.75 2.25 2.75 3.25 3.75 4.25 4.75 5.25]\nE_numerical; rounded, sorted =  [0.75 1.25 1.25 1.25 1.75 1.75 1.75 1.75 1.75 1.75]\n\n\nEk_numerical = [0.7500093770829643, 1.2500155929961458, 1.2500155909339952, 1.250015591561515, 1.7500222061316144, 1.7500220346649868, 1.7500225477868503, 1.7500222380287649, 1.750022291655731, 1.7500219903303602]\nEk_numerical; rounded, sorted =  [0.75 1.25 1.25 1.25 1.75 1.75 1.75 1.75 1.75 1.75]\n"
          ]
        },
        {
          "output_type": "execute_result",
          "data": {
            "text/plain": [
              "{0.75: 1, 1.25: 3, 1.75: 6}"
            ]
          },
          "metadata": {},
          "execution_count": 2
        }
      ]
    }
  ]
}